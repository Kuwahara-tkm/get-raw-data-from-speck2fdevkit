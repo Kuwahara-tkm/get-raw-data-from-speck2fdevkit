{
 "cells": [
  {
   "cell_type": "markdown",
   "metadata": {},
   "source": [
    "# Open devkit"
   ]
  },
  {
   "cell_type": "markdown",
   "metadata": {},
   "source": [
    "use Python 3.6.9"
   ]
  },
  {
   "cell_type": "code",
   "execution_count": null,
   "metadata": {},
   "outputs": [],
   "source": [
    "import sinabs.backend.dynapcnn.io as sio\n",
    "devkit = sio.open_device(\"speck2fdevkit:0\")\n",
    "\n",
    "# Build samna graph\n",
    "## Build a graph in samna to show dvs\n",
    "import samna\n",
    "\n",
    "samna_graph = samna.graph.EventFilterGraph()\n",
    "\n",
    "_, _, streamer = samna_graph.sequential([\n",
    "    devkit.get_model_source_node(),  # Specify the source of events to this graph as the devkit\n",
    "    \"Speck2fDvsToVizConverter\",   # Convert the events to visualizer events\n",
    "    \"VizEventStreamer\",  # Stream events to a visualizer via a streamer node\n",
    "])\n",
    "\n",
    "\"\"\"Creat the graph branch for reading the DVS event directly from the sensor\"\"\"\n",
    "dvs_sensor_buffer_node = samna.BasicSinkNode_speck2f_event_output_event()\n",
    "_, filter_dvs, _ = samna_graph.sequential(\n",
    "    [\n",
    "        devkit.get_model_source_node(),\n",
    "        \"Speck2fOutputEventTypeFilter\",\n",
    "         dvs_sensor_buffer_node,\n",
    "    ]\n",
    ")\n",
    "# set desired type of the filter node\n",
    "filter_dvs.set_desired_type(\"speck2f::event::DvsEvent\")\n",
    "\n",
    "## Launch visualizer window\n",
    "#### Specify the tcp port of the visualizer\n",
    "visualizer_port = \"tcp://0.0.0.0:40000\"\n",
    "\n",
    "### Launch visualizer\n",
    "gui_process = sio.launch_visualizer(receiver_endpoint=visualizer_port, disjoint_process=True)\n",
    "\n",
    "## Setpu the visualizer\n",
    "### Visualizer configuration branch of the graph.\n",
    "visualizer_config, _ = samna_graph.sequential([\n",
    "    samna.BasicSourceNode_ui_event(),  # For generating UI commands\n",
    "    streamer\n",
    "])\n",
    "\n",
    "# Connect to the visualizer\n",
    "streamer.set_streamer_destination(visualizer_port)\n",
    "if streamer.wait_for_receiver_count() == 0:\n",
    "    raise Exception(f'Connecting to visualizer on {visualizer_port} fails.')\n",
    "\n",
    "# Specify which plot is to be shown in the visualizer\n",
    "plot1 = samna.ui.ActivityPlotConfiguration(image_width=128, image_height=128, title=\"DVS Layer\", layout=[0, 0, 1, 1])\n",
    "visualizer_config.write([\n",
    "    samna.ui.VisualizerConfiguration(plots=[plot1])\n",
    "])\n",
    "\n",
    "# Try get_raw_result() method\n",
    "event_graph = samna.graph.EventFilterGraph()\n",
    "_, rater = event_graph.sequential([\n",
    "    devkit.get_model_source_node(),  # Specify the source of events to this graph as the devkit\n",
    "    \"Speck2fBackgroundNoiseRater\", \n",
    "])\n",
    "\n",
    "# Try get_events() method\n",
    "buf = samna.graph.sink_from(devkit.get_model().get_source_node())"
   ]
  },
  {
   "cell_type": "markdown",
   "metadata": {},
   "source": [
    "# Launch the devkit and start visualization"
   ]
  },
  {
   "cell_type": "code",
   "execution_count": null,
   "metadata": {},
   "outputs": [],
   "source": [
    "# Start DVS camera\n",
    "samna_graph.start()\n",
    "devkit_config = samna.speck2f.configuration.SpeckConfiguration()\n",
    "# enable monitoring the inputs from the DVS sensor \n",
    "devkit_config.dvs_layer.raw_monitor_enable = True\n",
    "# Apply this configuration\n",
    "devkit.get_model().apply_configuration(devkit_config)\n",
    "\n",
    "while True:\n",
    "    dvs_events = dvs_sensor_buffer_node.get_events()\n",
    "    if len(dvs_events) != 0:\n",
    "        print(dvs_events)"
   ]
  },
  {
   "cell_type": "markdown",
   "metadata": {},
   "source": [
    "#  Stop the devkit and visualization"
   ]
  },
  {
   "cell_type": "code",
   "execution_count": null,
   "metadata": {},
   "outputs": [],
   "source": [
    "# Stop the graph\n",
    "samna_graph.stop()\n",
    "\n",
    "# If we used a sub-process to launch the visualizer, use that to terminate the visualizer. \n",
    "if gui_process:\n",
    "    gui_process.terminate()\n",
    "    gui_process.join()"
   ]
  }
 ],
 "metadata": {
  "kernelspec": {
   "display_name": "Python 3",
   "language": "python",
   "name": "python3"
  },
  "language_info": {
   "codemirror_mode": {
    "name": "ipython",
    "version": 3
   },
   "file_extension": ".py",
   "mimetype": "text/x-python",
   "name": "python",
   "nbconvert_exporter": "python",
   "pygments_lexer": "ipython3",
   "version": "3.6.9"
  }
 },
 "nbformat": 4,
 "nbformat_minor": 2
}
